{
 "cells": [
  {
   "cell_type": "code",
   "execution_count": 1,
   "metadata": {},
   "outputs": [
    {
     "data": {
      "text/plain": [
       "True"
      ]
     },
     "execution_count": 1,
     "metadata": {},
     "output_type": "execute_result"
    }
   ],
   "source": [
    "import instructor\n",
    "from pydantic import BaseModel, Field\n",
    "from pydantic_data_models import OutfitClassification\n",
    "from openai import OpenAI\n",
    "import os \n",
    "import logging\n",
    "from dotenv import load_dotenv\n",
    "load_dotenv()"
   ]
  },
  {
   "cell_type": "code",
   "execution_count": 2,
   "metadata": {},
   "outputs": [],
   "source": [
    "# Add logger\n",
    "logging.basicConfig()\n",
    "logger = logging.getLogger(\"app\")\n",
    "logger.setLevel(\"INFO\")\n"
   ]
  },
  {
   "cell_type": "code",
   "execution_count": 3,
   "metadata": {},
   "outputs": [],
   "source": [
    "# Define clients\n",
    "client_image = instructor.from_openai(\n",
    "    OpenAI(\n",
    "        api_key=os.environ[\"OPENAI_API_KEY\"]\n",
    "        ),\n",
    "    mode=instructor.Mode.MD_JSON\n",
    "    )\n",
    "\n",
    "client_copy = instructor.from_openai(\n",
    "    OpenAI(api_key=os.getenv(\"OPENAI_API_KEY\")), mode=instructor.Mode.TOOLS\n",
    ")"
   ]
  },
  {
   "cell_type": "code",
   "execution_count": 4,
   "metadata": {},
   "outputs": [],
   "source": [
    "OUTFIT_URL = \"https://images.halloweencostumes.eu/products/83291/1-1/adult-lemon-slice-costume.jpg\"\n",
    "\n",
    "rezponz = client_image.chat.completions.create(\n",
    "        model=\"gpt-4o-mini\",\n",
    "        response_model=OutfitClassification,\n",
    "        max_tokens=1024,\n",
    "        temperature=0,\n",
    "        messages=[\n",
    "            {\n",
    "                \"role\": \"user\",\n",
    "                \"content\": [\n",
    "                    {\n",
    "                        \"type\": \"text\",\n",
    "                        \"text\": \"\"\"\n",
    "                            Role: You are an expert outfit stylist. \n",
    "                            Task: Your task is to assign a value from 0 to 1 to each of the categories.\n",
    "                            Context: Higher values means that the outfit resembles more to the name of the category.\n",
    "                            \"\"\"\n",
    "                    },\n",
    "                    {\n",
    "                        \"type\": \"image_url\", \n",
    "                        \"image_url\": {\"url\": OUTFIT_URL}\n",
    "                    },\n",
    "                ],\n",
    "            }\n",
    "        ],\n",
    "    )"
   ]
  },
  {
   "cell_type": "code",
   "execution_count": 5,
   "metadata": {},
   "outputs": [
    {
     "data": {
      "text/plain": [
       "OutfitClassification(Oriental=0.0, Light=0.8, Mountain=0.0, Robust=0.2, Floral=0.0, Joyful=0.9, Mossy=0.0, Dark=0.0, Stimulating=0.7, Deep=0.0, Carnal=0.0, Night=0.0, Ambery=0.0, Marine=0.0, Pink=0.5, Citrus=1.0, Acid=0.6, Sunny=0.9, Exotic=0.5, Warm=0.7, Grey=0.0, Casual=0.5, Unisexe=0.5, Original=0.6, Silver=0.0, Envigorating=0.5, Rich=0.0, Earthy=0.0, Sophisticated=0.0, Heat=0.0, Lavender=0.0, Ice_Cold=0.0, Watery=0.0, Zesty=0.8, Camphoric=0.0, Optimistic=0.8, Energetic=0.7, Sweet=0.6, Garden=0.0, Day=0.8, Cheerful=0.9, Intense=0.0, Powerful=0.0, Brown=0.0, Childhood=0.0, White=0.0, Round=0.0, Affirmed=0.0, Feminine=0.5, Vaporous=0.0, Mystical=0.0, Romantic=0.0, Spring=0.0, Black=0.0, Girly=0.5, Tunisia=0.0, Sicily=0.0, Forest=0.0, Energyzing=0.5, Freedom=0.0, Comfortable=0.5, Sporty=0.0, Noticeable=0.5, Masculine=0.0, Everyday=0.5, Earth=0.0, Somalie=0.0, Blooming=0.0, Clean=0.0, Hot=0.0, Self_Confident=0.5, Elegant=0.0, Invigorating=0.5, Woody=0.0, Orange=0.0, Holidays=0.0, Autum=0.0, Purple=0.0, Bulgaria=0.0, Luminous=0.0, Radiant=0.0, Fresh=0.0, Happy=0.9, Generous=0.0, Shrub=0.0, Exciting=0.7, Winter=0.0, Dynamic=0.0, Vertical=0.0, Aromatic=0.0, Loud=0.0, Gold=0.0, Heavy=0.0, Sparkling=0.0, Green=0.0, Ozone=0.0, Colourful=0.8, Summer=0.9)"
      ]
     },
     "execution_count": 5,
     "metadata": {},
     "output_type": "execute_result"
    }
   ],
   "source": [
    "rezponz"
   ]
  },
  {
   "cell_type": "code",
   "execution_count": 20,
   "metadata": {},
   "outputs": [
    {
     "data": {
      "text/plain": [
       "pydantic_data_models.OutfitClassification"
      ]
     },
     "execution_count": 20,
     "metadata": {},
     "output_type": "execute_result"
    }
   ],
   "source": [
    "OutfitClassification"
   ]
  },
  {
   "cell_type": "code",
   "execution_count": null,
   "metadata": {},
   "outputs": [],
   "source": []
  }
 ],
 "metadata": {
  "kernelspec": {
   "display_name": "scraperz",
   "language": "python",
   "name": "python3"
  },
  "language_info": {
   "codemirror_mode": {
    "name": "ipython",
    "version": 3
   },
   "file_extension": ".py",
   "mimetype": "text/x-python",
   "name": "python",
   "nbconvert_exporter": "python",
   "pygments_lexer": "ipython3",
   "version": "3.12.7"
  }
 },
 "nbformat": 4,
 "nbformat_minor": 2
}
